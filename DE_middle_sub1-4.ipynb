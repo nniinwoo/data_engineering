{
 "cells": [
  {
   "cell_type": "code",
   "execution_count": 6,
   "id": "644b3e7b-6e96-4708-bfc5-4f4f58db8f15",
   "metadata": {},
   "outputs": [
    {
     "name": "stdout",
     "output_type": "stream",
     "text": [
      "당신의 조선시대 이름은 김삼룡입니다.\n"
     ]
    }
   ],
   "source": [
    "# 과제 4: 나의 조선시대 이름 찾기\n",
    "# 성(family name), 태어난 달(month)과 태어난 날짜(day)를 입력받아 나의 조선시대 이름을 출력하는 함수를 작성하시오.\n",
    "def get_my_chosun_name(str, index1, index2):\n",
    "    result = str+month[index1-1]+day[index2-1]\n",
    "    print(f\"당신의 조선시대 이름은 {result}입니다.\")\n",
    "    \n",
    "month=['쌍', '쇠', '복', '돌', '팽', '육', '쌍', '개', '칠', '갑', '삼', '방']\n",
    "day=['봉', '구', '욕', '포', '똥', '삼', '식', '석', '놈', '님', '년', '돌', '단', '득', '방', '질', '장', '걸', '래', '룡', '동', '순', '자', '박', '창', '언', '것', '포', '만', '단', '국']\n",
    "#month[0]~[11]\n",
    "#day[0]~[30]\n",
    "#print(len(day))\n",
    "\n",
    "get_my_chosun_name('김',11,20)"
   ]
  }
 ],
 "metadata": {
  "kernelspec": {
   "display_name": "Python 3 (ipykernel)",
   "language": "python",
   "name": "python3"
  },
  "language_info": {
   "codemirror_mode": {
    "name": "ipython",
    "version": 3
   },
   "file_extension": ".py",
   "mimetype": "text/x-python",
   "name": "python",
   "nbconvert_exporter": "python",
   "pygments_lexer": "ipython3",
   "version": "3.12.4"
  }
 },
 "nbformat": 4,
 "nbformat_minor": 5
}
