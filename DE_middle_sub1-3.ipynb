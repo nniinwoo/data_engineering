{
 "cells": [
  {
   "cell_type": "code",
   "execution_count": 2,
   "id": "1f869628-6faa-4e76-b81b-0d0360155efe",
   "metadata": {},
   "outputs": [
    {
     "name": "stdout",
     "output_type": "stream",
     "text": [
      "31.875\n",
      "[25, 20, 35, 15, 15, 30, 45, 30]\n",
      "1085\n",
      "155.0\n",
      "['bouffant', 'pixie', 'crew', 'bowl']\n"
     ]
    }
   ],
   "source": [
    "# 중간과제 3\n",
    "hairstyles = [\"bouffant\", \"pixie\", \"dreadlocks\", \"crew\", \"bowl\", \"bob\", \"mohawk\", \"flattop\"]\n",
    "prices = [30, 25, 40, 20, 20, 35, 50, 35]\n",
    "last_week = [2, 3, 5, 8, 4, 4, 6, 2]\n",
    "\n",
    "# Prices and Cuts:\n",
    "# 1. Carly wants to be able to market her low prices. We want to find out what the average price of a cut is. First, let’s sum up all the prices of haircuts. Create a variable total_price, and set it to 0.\n",
    "total_price=0\n",
    "# 2. Loop through the prices list and add each price to the variable total_price.\n",
    "for val in prices:\n",
    "    total_price+=val\n",
    "# 3. After your loop, create a variable called average_price that is the total_price divided by the number of prices. You can get the number of prices by using the len() function.\n",
    "average_price=total_price/(len(prices))\n",
    "# 4. Print the value of average_price.\n",
    "print(average_price)\n",
    "# Expected Output:\n",
    "# Average price is  31.875\n",
    "# 5. That average price is more expensive than Carly thought it would be! She wants to cut all prices by 5 dollars. Use a list comprehension to make a list called new_prices, which has each element in prices minus 5.\n",
    "new_prices=[val-5 for val in prices]\n",
    "# 6. Print new_prices.\n",
    "print(new_prices)\n",
    "# Expected Output:\n",
    "# [25, 20, 35, 15, 15, 30, 45, 30]\n",
    "# Revenue:\n",
    "# 7. Carly really wants to make sure that Carly’s Clippers is a profitable endeavor. She first wants to know how much revenue was brought in last week. Create a variable called total_revenue and set it to 0.\n",
    "total_revenue=0\n",
    "# 8. Use a for loop to create a variable i that goes from 0 to len(hairstyles) Hint: You can use range() to do this!\n",
    "for i in range(0,len(hairstyles)):\n",
    "# 9. Add the product of prices[i] (the price of the haircut at position i) and last_week[i] (the number of people who got the haircut at position i) to total_revenue at each step.\n",
    "     total_revenue+=prices[i]*last_week[i]\n",
    "# 10. After your loop, print the value of total_revenue.\n",
    "print(total_revenue)\n",
    "# 11. Find the average daily revenue by dividing total_revenue by 7. Call this number average_daily_revenue and print it out.\n",
    "average_daily_revenue=(total_revenue)/7\n",
    "print(average_daily_revenue)\n",
    "# Expected Output:\n",
    "# Average daily revenue is  155.0\n",
    "# 12. Carly thinks she can bring in more customers by advertising all of the haircuts she has that are under 30 dollars. Use a list comprehension to create a list called cuts_under_30 that has the entry hairstyles[i] for each i for which new_prices[i] is less than 30. You can use range() in your list comprehension to make i go from 0 to len(new_prices) - 1.\n",
    "cuts_under_30=[hairstyles[i] for i in range(0,len(new_prices)-1) if new_prices[i]<30]\n",
    "# 13. Print cuts_under_30.\n",
    "print(cuts_under_30)\n",
    "# Expected Output:\n",
    "# ['bouffant', 'pixie', 'crew', 'bowl']"
   ]
  }
 ],
 "metadata": {
  "kernelspec": {
   "display_name": "Python 3 (ipykernel)",
   "language": "python",
   "name": "python3"
  },
  "language_info": {
   "codemirror_mode": {
    "name": "ipython",
    "version": 3
   },
   "file_extension": ".py",
   "mimetype": "text/x-python",
   "name": "python",
   "nbconvert_exporter": "python",
   "pygments_lexer": "ipython3",
   "version": "3.12.4"
  }
 },
 "nbformat": 4,
 "nbformat_minor": 5
}
